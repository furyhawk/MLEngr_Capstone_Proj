{
 "cells": [
  {
   "cell_type": "markdown",
   "metadata": {},
   "source": [
    "# HDBSCAN tuning"
   ]
  },
  {
   "cell_type": "code",
   "execution_count": 1,
   "metadata": {},
   "outputs": [
    {
     "name": "stdout",
     "output_type": "stream",
     "text": [
      "Collecting hdbscan\n",
      "  Using cached hdbscan-0.8.27-cp36-cp36m-linux_x86_64.whl\n",
      "Requirement already satisfied: scikit-learn>=0.20 in /home/ec2-user/anaconda3/envs/pytorch_p36/lib/python3.6/site-packages (from hdbscan) (0.24.2)\n",
      "Requirement already satisfied: scipy>=1.0 in /home/ec2-user/anaconda3/envs/pytorch_p36/lib/python3.6/site-packages (from hdbscan) (1.5.3)\n",
      "Requirement already satisfied: cython>=0.27 in /home/ec2-user/anaconda3/envs/pytorch_p36/lib/python3.6/site-packages (from hdbscan) (0.29.23)\n",
      "Requirement already satisfied: six in /home/ec2-user/anaconda3/envs/pytorch_p36/lib/python3.6/site-packages (from hdbscan) (1.16.0)\n",
      "Requirement already satisfied: numpy>=1.16 in /home/ec2-user/anaconda3/envs/pytorch_p36/lib/python3.6/site-packages (from hdbscan) (1.19.5)\n",
      "Requirement already satisfied: joblib>=1.0 in /home/ec2-user/anaconda3/envs/pytorch_p36/lib/python3.6/site-packages (from hdbscan) (1.0.1)\n",
      "Requirement already satisfied: threadpoolctl>=2.0.0 in /home/ec2-user/anaconda3/envs/pytorch_p36/lib/python3.6/site-packages (from scikit-learn>=0.20->hdbscan) (2.1.0)\n",
      "Installing collected packages: hdbscan\n",
      "Successfully installed hdbscan-0.8.27\n",
      "\u001b[33mWARNING: You are using pip version 21.2.4; however, version 21.3.1 is available.\n",
      "You should consider upgrading via the '/home/ec2-user/anaconda3/envs/pytorch_p36/bin/python -m pip install --upgrade pip' command.\u001b[0m\n"
     ]
    }
   ],
   "source": [
    "!pip install hdbscan"
   ]
  },
  {
   "cell_type": "markdown",
   "metadata": {},
   "source": [
    "## Data Loading and Preprocessing"
   ]
  },
  {
   "cell_type": "code",
   "execution_count": 2,
   "metadata": {},
   "outputs": [],
   "source": [
    "import pandas as pd\n",
    "import hdbscan\n",
    "from sklearn import model_selection\n",
    "from sklearn.metrics import make_scorer\n",
    "import logging # to further silence deprecation warnings"
   ]
  },
  {
   "cell_type": "markdown",
   "metadata": {},
   "source": [
    "## Prepare data"
   ]
  },
  {
   "cell_type": "code",
   "execution_count": 3,
   "metadata": {},
   "outputs": [
    {
     "name": "stdout",
     "output_type": "stream",
     "text": [
      "(3968, 14)\n"
     ]
    },
    {
     "data": {
      "text/html": [
       "<div>\n",
       "<style scoped>\n",
       "    .dataframe tbody tr th:only-of-type {\n",
       "        vertical-align: middle;\n",
       "    }\n",
       "\n",
       "    .dataframe tbody tr th {\n",
       "        vertical-align: top;\n",
       "    }\n",
       "\n",
       "    .dataframe thead th {\n",
       "        text-align: right;\n",
       "    }\n",
       "</style>\n",
       "<table border=\"1\" class=\"dataframe\">\n",
       "  <thead>\n",
       "    <tr style=\"text-align: right;\">\n",
       "      <th></th>\n",
       "      <th>-7.558620396262513e-12</th>\n",
       "      <th>-2.5195401320875045e-12</th>\n",
       "      <th>0.04186291447346667</th>\n",
       "      <th>0.04262949171029229</th>\n",
       "      <th>0.04262949171029229.1</th>\n",
       "      <th>0.0</th>\n",
       "      <th>0.0.1</th>\n",
       "      <th>0.0.2</th>\n",
       "      <th>0.0.3</th>\n",
       "      <th>0.0.4</th>\n",
       "      <th>0.0.5</th>\n",
       "      <th>0.0.6</th>\n",
       "      <th>0.0.7</th>\n",
       "      <th>0.0.8</th>\n",
       "    </tr>\n",
       "  </thead>\n",
       "  <tbody>\n",
       "    <tr>\n",
       "      <th>0</th>\n",
       "      <td>-7.558620e-12</td>\n",
       "      <td>-2.519540e-12</td>\n",
       "      <td>0.041863</td>\n",
       "      <td>0.042629</td>\n",
       "      <td>0.042629</td>\n",
       "      <td>0.000000</td>\n",
       "      <td>0.0</td>\n",
       "      <td>0.0</td>\n",
       "      <td>0.0</td>\n",
       "      <td>0.0</td>\n",
       "      <td>0.0</td>\n",
       "      <td>0.0</td>\n",
       "      <td>0.0</td>\n",
       "      <td>0.0</td>\n",
       "    </tr>\n",
       "    <tr>\n",
       "      <th>1</th>\n",
       "      <td>-7.558620e-12</td>\n",
       "      <td>-2.519540e-12</td>\n",
       "      <td>0.041863</td>\n",
       "      <td>0.042629</td>\n",
       "      <td>0.042629</td>\n",
       "      <td>3.425587</td>\n",
       "      <td>0.0</td>\n",
       "      <td>0.0</td>\n",
       "      <td>0.0</td>\n",
       "      <td>0.0</td>\n",
       "      <td>0.0</td>\n",
       "      <td>0.0</td>\n",
       "      <td>0.0</td>\n",
       "      <td>0.0</td>\n",
       "    </tr>\n",
       "    <tr>\n",
       "      <th>2</th>\n",
       "      <td>-7.558620e-12</td>\n",
       "      <td>-2.519540e-12</td>\n",
       "      <td>0.041863</td>\n",
       "      <td>0.042629</td>\n",
       "      <td>0.042629</td>\n",
       "      <td>0.000000</td>\n",
       "      <td>0.0</td>\n",
       "      <td>0.0</td>\n",
       "      <td>0.0</td>\n",
       "      <td>0.0</td>\n",
       "      <td>0.0</td>\n",
       "      <td>0.0</td>\n",
       "      <td>0.0</td>\n",
       "      <td>0.0</td>\n",
       "    </tr>\n",
       "  </tbody>\n",
       "</table>\n",
       "</div>"
      ],
      "text/plain": [
       "   -7.558620396262513e-12  -2.5195401320875045e-12  0.04186291447346667  \\\n",
       "0           -7.558620e-12            -2.519540e-12             0.041863   \n",
       "1           -7.558620e-12            -2.519540e-12             0.041863   \n",
       "2           -7.558620e-12            -2.519540e-12             0.041863   \n",
       "\n",
       "   0.04262949171029229  0.04262949171029229.1       0.0  0.0.1  0.0.2  0.0.3  \\\n",
       "0             0.042629               0.042629  0.000000    0.0    0.0    0.0   \n",
       "1             0.042629               0.042629  3.425587    0.0    0.0    0.0   \n",
       "2             0.042629               0.042629  0.000000    0.0    0.0    0.0   \n",
       "\n",
       "   0.0.4  0.0.5  0.0.6  0.0.7  0.0.8  \n",
       "0    0.0    0.0    0.0    0.0    0.0  \n",
       "1    0.0    0.0    0.0    0.0    0.0  \n",
       "2    0.0    0.0    0.0    0.0    0.0  "
      ]
     },
     "execution_count": 3,
     "metadata": {},
     "output_type": "execute_result"
    }
   ],
   "source": [
    "feature_df = pd.read_csv(\"data/x_train_transformed_df.csv\")  # using pre-processed training dataset\n",
    "print( feature_df.shape )\n",
    "feature_df.head(3)"
   ]
  },
  {
   "cell_type": "markdown",
   "metadata": {},
   "source": [
    "#---------------------------------------------------------------------------------------------------------------------------------------"
   ]
  },
  {
   "cell_type": "markdown",
   "metadata": {},
   "source": [
    "## Find optimal parameters"
   ]
  },
  {
   "cell_type": "code",
   "execution_count": 4,
   "metadata": {},
   "outputs": [],
   "source": [
    "logging.captureWarnings(True)\n",
    "hdb = hdbscan.HDBSCAN(gen_min_span_tree=True)"
   ]
  },
  {
   "cell_type": "code",
   "execution_count": 5,
   "metadata": {},
   "outputs": [],
   "source": [
    "param_dist = {'min_samples': [10,20,30,50],\n",
    "              'min_cluster_size':[40, 50,100],  \n",
    "              'cluster_selection_method' : ['eom','leaf'],\n",
    "              'metric' : ['euclidean','manhattan'] \n",
    "             }"
   ]
  },
  {
   "cell_type": "code",
   "execution_count": 6,
   "metadata": {},
   "outputs": [],
   "source": [
    "validity_scorer = make_scorer(hdbscan.validity.validity_index,greater_is_better=True)"
   ]
  },
  {
   "cell_type": "code",
   "execution_count": 7,
   "metadata": {},
   "outputs": [],
   "source": [
    "grid_search = model_selection.GridSearchCV(hdb, \n",
    "                                           param_dist,\n",
    "                                           scoring=validity_scorer, \n",
    "                                           refit=True,\n",
    "                                           cv=10, \n",
    "                                           return_train_score=True)"
   ]
  },
  {
   "cell_type": "code",
   "execution_count": 8,
   "metadata": {},
   "outputs": [
    {
     "data": {
      "text/plain": [
       "GridSearchCV(cv=10, estimator=HDBSCAN(gen_min_span_tree=True),\n",
       "             param_grid={'cluster_selection_method': ['eom', 'leaf'],\n",
       "                         'metric': ['euclidean', 'manhattan'],\n",
       "                         'min_cluster_size': [40, 50, 100],\n",
       "                         'min_samples': [10, 20, 30, 50]},\n",
       "             return_train_score=True, scoring=make_scorer(validity_index))"
      ]
     },
     "execution_count": 8,
     "metadata": {},
     "output_type": "execute_result"
    }
   ],
   "source": [
    "grid_search.fit(feature_df)"
   ]
  },
  {
   "cell_type": "code",
   "execution_count": 9,
   "metadata": {},
   "outputs": [
    {
     "name": "stdout",
     "output_type": "stream",
     "text": [
      "Best Parameters {'cluster_selection_method': 'eom', 'metric': 'euclidean', 'min_cluster_size': 40, 'min_samples': 10}\n",
      "DBCV score :0.9489197777196966\n"
     ]
    }
   ],
   "source": [
    "print(f\"Best Parameters {grid_search.best_params_}\")\n",
    "print(f\"DBCV score :{grid_search.best_estimator_.relative_validity_}\")    # DBCV: https://github.com/christopherjenness/DBCV"
   ]
  }
 ],
 "metadata": {
  "instance_type": "ml.t3.medium",
  "interpreter": {
   "hash": "9149b96ea92d7a2bc80717d2331fa845abb7ffa6e602287474953c241f87badb"
  },
  "kernelspec": {
   "display_name": "conda_pytorch_p36",
   "language": "python",
   "name": "conda_pytorch_p36"
  },
  "language_info": {
   "codemirror_mode": {
    "name": "ipython",
    "version": 3
   },
   "file_extension": ".py",
   "mimetype": "text/x-python",
   "name": "python",
   "nbconvert_exporter": "python",
   "pygments_lexer": "ipython3",
   "version": "3.6.13"
  }
 },
 "nbformat": 4,
 "nbformat_minor": 4
}
