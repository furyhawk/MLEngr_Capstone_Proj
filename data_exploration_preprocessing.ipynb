{
  "nbformat": 4,
  "nbformat_minor": 0,
  "metadata": {
    "colab": {
      "name": "data_exploration_preprocessing.ipynb",
      "provenance": [],
      "collapsed_sections": []
    },
    "kernelspec": {
      "name": "python3",
      "display_name": "Python 3"
    },
    "language_info": {
      "name": "python"
    }
  },
  "cells": [
    {
      "cell_type": "code",
      "metadata": {
        "colab": {
          "base_uri": "https://localhost:8080/"
        },
        "id": "x0crTMk3ZFRe",
        "outputId": "969719f1-438f-421c-fe3c-b80942ed9dfa"
      },
      "source": [
        "# Data exploration was done in Google Colab environment\n",
        "from google.colab import drive\n",
        "drive.mount('/content/gdrive/')"
      ],
      "execution_count": 1,
      "outputs": [
        {
          "output_type": "stream",
          "name": "stdout",
          "text": [
            "Mounted at /content/gdrive/\n"
          ]
        }
      ]
    },
    {
      "cell_type": "code",
      "metadata": {
        "colab": {
          "base_uri": "https://localhost:8080/"
        },
        "id": "QT-KhcIYwfBt",
        "outputId": "bd69c8e7-cba7-4bf6-971f-e912581194a3"
      },
      "source": [
        "!pip install loglizer"
      ],
      "execution_count": 2,
      "outputs": [
        {
          "output_type": "stream",
          "name": "stdout",
          "text": [
            "Collecting loglizer\n",
            "  Downloading loglizer-1.0-py3-none-any.whl (21 kB)\n",
            "Installing collected packages: loglizer\n",
            "Successfully installed loglizer-1.0\n"
          ]
        }
      ]
    },
    {
      "cell_type": "markdown",
      "metadata": {
        "id": "R5BoKoU1-_5V"
      },
      "source": [
        "## Data Exploration"
      ]
    },
    {
      "cell_type": "code",
      "metadata": {
        "id": "xHatQXrWZjWE"
      },
      "source": [
        "import pandas as pd\n",
        "import re\n",
        "import sys\n",
        "sys.path.append('../')\n",
        "from loglizer.models import LogClustering\n",
        "from loglizer import dataloader, preprocessing\n",
        "import itertools"
      ],
      "execution_count": 3,
      "outputs": []
    },
    {
      "cell_type": "code",
      "metadata": {
        "id": "GHLSscujaKVM"
      },
      "source": [
        "feature_path = '/content/gdrive/MyDrive/data/HDFS_100k.log_structured.csv'\n",
        "label_path = '/content/gdrive/MyDrive/data/anomaly_label.csv'"
      ],
      "execution_count": 4,
      "outputs": []
    },
    {
      "cell_type": "code",
      "metadata": {
        "colab": {
          "base_uri": "https://localhost:8080/",
          "height": 222
        },
        "id": "PayU4TriaDq4",
        "outputId": "5e6bd3db-e653-4e48-fd94-f6634ec9b080"
      },
      "source": [
        "# load HDFS logs into pandas DataFrame\n",
        "feature_df = pd.read_csv(feature_path)\n",
        "print(feature_df.shape)\n",
        "feature_df.head()"
      ],
      "execution_count": 5,
      "outputs": [
        {
          "output_type": "stream",
          "name": "stdout",
          "text": [
            "(104815, 9)\n"
          ]
        },
        {
          "output_type": "execute_result",
          "data": {
            "text/html": [
              "<div>\n",
              "<style scoped>\n",
              "    .dataframe tbody tr th:only-of-type {\n",
              "        vertical-align: middle;\n",
              "    }\n",
              "\n",
              "    .dataframe tbody tr th {\n",
              "        vertical-align: top;\n",
              "    }\n",
              "\n",
              "    .dataframe thead th {\n",
              "        text-align: right;\n",
              "    }\n",
              "</style>\n",
              "<table border=\"1\" class=\"dataframe\">\n",
              "  <thead>\n",
              "    <tr style=\"text-align: right;\">\n",
              "      <th></th>\n",
              "      <th>LineId</th>\n",
              "      <th>Date</th>\n",
              "      <th>Time</th>\n",
              "      <th>Pid</th>\n",
              "      <th>Level</th>\n",
              "      <th>Component</th>\n",
              "      <th>Content</th>\n",
              "      <th>EventId</th>\n",
              "      <th>EventTemplate</th>\n",
              "    </tr>\n",
              "  </thead>\n",
              "  <tbody>\n",
              "    <tr>\n",
              "      <th>0</th>\n",
              "      <td>1</td>\n",
              "      <td>81109</td>\n",
              "      <td>203518</td>\n",
              "      <td>143</td>\n",
              "      <td>INFO</td>\n",
              "      <td>dfs.DataNode$DataXceiver</td>\n",
              "      <td>Receiving block blk_-1608999687919862906 src: ...</td>\n",
              "      <td>E5</td>\n",
              "      <td>Receiving block &lt;*&gt; src: /&lt;*&gt; dest: /&lt;*&gt;</td>\n",
              "    </tr>\n",
              "    <tr>\n",
              "      <th>1</th>\n",
              "      <td>2</td>\n",
              "      <td>81109</td>\n",
              "      <td>203518</td>\n",
              "      <td>35</td>\n",
              "      <td>INFO</td>\n",
              "      <td>dfs.FSNamesystem</td>\n",
              "      <td>BLOCK* NameSystem.allocateBlock: /mnt/hadoop/m...</td>\n",
              "      <td>E22</td>\n",
              "      <td>BLOCK* NameSystem.allocateBlock:&lt;*&gt;</td>\n",
              "    </tr>\n",
              "    <tr>\n",
              "      <th>2</th>\n",
              "      <td>3</td>\n",
              "      <td>81109</td>\n",
              "      <td>203519</td>\n",
              "      <td>143</td>\n",
              "      <td>INFO</td>\n",
              "      <td>dfs.DataNode$DataXceiver</td>\n",
              "      <td>Receiving block blk_-1608999687919862906 src: ...</td>\n",
              "      <td>E5</td>\n",
              "      <td>Receiving block &lt;*&gt; src: /&lt;*&gt; dest: /&lt;*&gt;</td>\n",
              "    </tr>\n",
              "    <tr>\n",
              "      <th>3</th>\n",
              "      <td>4</td>\n",
              "      <td>81109</td>\n",
              "      <td>203519</td>\n",
              "      <td>145</td>\n",
              "      <td>INFO</td>\n",
              "      <td>dfs.DataNode$DataXceiver</td>\n",
              "      <td>Receiving block blk_-1608999687919862906 src: ...</td>\n",
              "      <td>E5</td>\n",
              "      <td>Receiving block &lt;*&gt; src: /&lt;*&gt; dest: /&lt;*&gt;</td>\n",
              "    </tr>\n",
              "    <tr>\n",
              "      <th>4</th>\n",
              "      <td>5</td>\n",
              "      <td>81109</td>\n",
              "      <td>203519</td>\n",
              "      <td>145</td>\n",
              "      <td>INFO</td>\n",
              "      <td>dfs.DataNode$PacketResponder</td>\n",
              "      <td>PacketResponder 1 for block blk_-1608999687919...</td>\n",
              "      <td>E11</td>\n",
              "      <td>PacketResponder &lt;*&gt; for block &lt;*&gt; terminating</td>\n",
              "    </tr>\n",
              "  </tbody>\n",
              "</table>\n",
              "</div>"
            ],
            "text/plain": [
              "   LineId   Date  ...  EventId                                  EventTemplate\n",
              "0       1  81109  ...       E5       Receiving block <*> src: /<*> dest: /<*>\n",
              "1       2  81109  ...      E22            BLOCK* NameSystem.allocateBlock:<*>\n",
              "2       3  81109  ...       E5       Receiving block <*> src: /<*> dest: /<*>\n",
              "3       4  81109  ...       E5       Receiving block <*> src: /<*> dest: /<*>\n",
              "4       5  81109  ...      E11  PacketResponder <*> for block <*> terminating\n",
              "\n",
              "[5 rows x 9 columns]"
            ]
          },
          "metadata": {},
          "execution_count": 5
        }
      ]
    },
    {
      "cell_type": "code",
      "metadata": {
        "colab": {
          "base_uri": "https://localhost:8080/"
        },
        "id": "1WXBf0pyx-G-",
        "outputId": "11739665-b05a-4516-de00-adbefddca978"
      },
      "source": [
        "# Check for missing values\n",
        "print( feature_df.isnull().any().sum() )"
      ],
      "execution_count": 6,
      "outputs": [
        {
          "output_type": "stream",
          "name": "stdout",
          "text": [
            "0\n"
          ]
        }
      ]
    },
    {
      "cell_type": "code",
      "metadata": {
        "colab": {
          "base_uri": "https://localhost:8080/"
        },
        "id": "oIWvCo4L0UV_",
        "outputId": "8a85afff-4ab5-4f3f-f12e-b9b60ddece6d"
      },
      "source": [
        "# Explore column 'Content'\n",
        "blkId_list_all = []\n",
        "\n",
        "for idx, row in feature_df.iterrows():\n",
        "    blkId_list = re.findall(r'(blk_-?\\d+)', row['Content'])\n",
        "    for item in blkId_list:\n",
        "      blkId_list_all.append(item)\n",
        "\n",
        "blkId_set_all = set(blkId_list_all)\n",
        "\n",
        "# check first 5 values in set\n",
        "for i, val in enumerate(itertools.islice(blkId_set_all, 5)):\n",
        "  print(val)\n",
        "\n",
        "len( blkId_set_all )"
      ],
      "execution_count": 7,
      "outputs": [
        {
          "output_type": "stream",
          "name": "stdout",
          "text": [
            "blk_-3884292278573253626\n",
            "blk_7624916180150944740\n",
            "blk_-6479204198004710551\n",
            "blk_-4245884509761907623\n",
            "blk_-1375722282658006873\n"
          ]
        },
        {
          "output_type": "execute_result",
          "data": {
            "text/plain": [
              "7940"
            ]
          },
          "metadata": {},
          "execution_count": 7
        }
      ]
    },
    {
      "cell_type": "code",
      "metadata": {
        "colab": {
          "base_uri": "https://localhost:8080/"
        },
        "id": "aiEkVpNC4fOK",
        "outputId": "8e33e188-d3fe-49bc-d0a8-a5ec5128ec2b"
      },
      "source": [
        "# Explore column 'EventId'\n",
        "print( f\"Number of unique events: { len( feature_df['EventId'].unique()) }\" )"
      ],
      "execution_count": 8,
      "outputs": [
        {
          "output_type": "stream",
          "name": "stdout",
          "text": [
            "Number of unique events: 19\n"
          ]
        }
      ]
    },
    {
      "cell_type": "code",
      "metadata": {
        "id": "8N5aBQs07ZMI",
        "colab": {
          "base_uri": "https://localhost:8080/"
        },
        "outputId": "b0f8b743-f9b0-42e5-89ee-04c4e4cd54d2"
      },
      "source": [
        "feature_df['EventId'].value_counts()"
      ],
      "execution_count": 9,
      "outputs": [
        {
          "output_type": "execute_result",
          "data": {
            "text/plain": [
              "E5     23671\n",
              "E26    23478\n",
              "E11    23451\n",
              "E9     23447\n",
              "E22     7940\n",
              "E2      2183\n",
              "E3       407\n",
              "E7        68\n",
              "E6        31\n",
              "E18       27\n",
              "E25       27\n",
              "E16       27\n",
              "E13       24\n",
              "E21       23\n",
              "E14        4\n",
              "E10        3\n",
              "E15        2\n",
              "E8         1\n",
              "E27        1\n",
              "Name: EventId, dtype: int64"
            ]
          },
          "metadata": {},
          "execution_count": 9
        }
      ]
    },
    {
      "cell_type": "code",
      "metadata": {
        "colab": {
          "base_uri": "https://localhost:8080/",
          "height": 291
        },
        "id": "BYKn7Vqc64ZX",
        "outputId": "e841bc69-a788-4186-d307-f4f862500db3"
      },
      "source": [
        "feature_df['EventId'].value_counts().plot(kind='bar')"
      ],
      "execution_count": 10,
      "outputs": [
        {
          "output_type": "execute_result",
          "data": {
            "text/plain": [
              "<matplotlib.axes._subplots.AxesSubplot at 0x7f3b7da59f50>"
            ]
          },
          "metadata": {},
          "execution_count": 10
        },
        {
          "output_type": "display_data",
          "data": {
            "image/png": "[encoded data removed]",
            "text/plain": [
              "<Figure size 432x288 with 1 Axes>"
            ]
          },
          "metadata": {
            "needs_background": "light"
          }
        }
      ]
    },
    {
      "cell_type": "code",
      "metadata": {
        "colab": {
          "base_uri": "https://localhost:8080/",
          "height": 222
        },
        "id": "0oy2aJlvv-51",
        "outputId": "cfbf3d01-c905-48b2-ced1-60bf994f62ba"
      },
      "source": [
        "label_df = pd.read_csv(label_path)\n",
        "print(label_df.shape)\n",
        "label_df.head()"
      ],
      "execution_count": 11,
      "outputs": [
        {
          "output_type": "stream",
          "name": "stdout",
          "text": [
            "(575061, 2)\n"
          ]
        },
        {
          "output_type": "execute_result",
          "data": {
            "text/html": [
              "<div>\n",
              "<style scoped>\n",
              "    .dataframe tbody tr th:only-of-type {\n",
              "        vertical-align: middle;\n",
              "    }\n",
              "\n",
              "    .dataframe tbody tr th {\n",
              "        vertical-align: top;\n",
              "    }\n",
              "\n",
              "    .dataframe thead th {\n",
              "        text-align: right;\n",
              "    }\n",
              "</style>\n",
              "<table border=\"1\" class=\"dataframe\">\n",
              "  <thead>\n",
              "    <tr style=\"text-align: right;\">\n",
              "      <th></th>\n",
              "      <th>BlockId</th>\n",
              "      <th>Label</th>\n",
              "    </tr>\n",
              "  </thead>\n",
              "  <tbody>\n",
              "    <tr>\n",
              "      <th>0</th>\n",
              "      <td>blk_-1608999687919862906</td>\n",
              "      <td>Normal</td>\n",
              "    </tr>\n",
              "    <tr>\n",
              "      <th>1</th>\n",
              "      <td>blk_7503483334202473044</td>\n",
              "      <td>Normal</td>\n",
              "    </tr>\n",
              "    <tr>\n",
              "      <th>2</th>\n",
              "      <td>blk_-3544583377289625738</td>\n",
              "      <td>Anomaly</td>\n",
              "    </tr>\n",
              "    <tr>\n",
              "      <th>3</th>\n",
              "      <td>blk_-9073992586687739851</td>\n",
              "      <td>Normal</td>\n",
              "    </tr>\n",
              "    <tr>\n",
              "      <th>4</th>\n",
              "      <td>blk_7854771516489510256</td>\n",
              "      <td>Normal</td>\n",
              "    </tr>\n",
              "  </tbody>\n",
              "</table>\n",
              "</div>"
            ],
            "text/plain": [
              "                    BlockId    Label\n",
              "0  blk_-1608999687919862906   Normal\n",
              "1   blk_7503483334202473044   Normal\n",
              "2  blk_-3544583377289625738  Anomaly\n",
              "3  blk_-9073992586687739851   Normal\n",
              "4   blk_7854771516489510256   Normal"
            ]
          },
          "metadata": {},
          "execution_count": 11
        }
      ]
    },
    {
      "cell_type": "code",
      "metadata": {
        "colab": {
          "base_uri": "https://localhost:8080/"
        },
        "id": "BtKZeMTwwnj9",
        "outputId": "6a198a14-abb9-4620-8ba6-2e1165bc3e2c"
      },
      "source": [
        "# Check for missing values\n",
        "print( label_df.isnull().any().sum() )"
      ],
      "execution_count": 12,
      "outputs": [
        {
          "output_type": "stream",
          "name": "stdout",
          "text": [
            "0\n"
          ]
        }
      ]
    },
    {
      "cell_type": "markdown",
      "metadata": {
        "id": "x1wVOGUZ-7bD"
      },
      "source": [
        "## Data Preprocessing"
      ]
    },
    {
      "cell_type": "code",
      "metadata": {
        "colab": {
          "base_uri": "https://localhost:8080/"
        },
        "id": "TC6KoSLCeL7r",
        "outputId": "dc04987d-4dac-429e-8d04-9065cef5cc4f"
      },
      "source": [
        "# load and spilt HDFS logs into training (70%) and test dataset (30%)\n",
        "(x_train, y_train), (x_test, y_test) = dataloader.load_HDFS(feature_path,\n",
        "                                                            label_path,\n",
        "                                                            window='session', \n",
        "                                                            train_ratio=0.7,\n",
        "                                                            split_type='uniform')"
      ],
      "execution_count": 14,
      "outputs": [
        {
          "output_type": "stream",
          "name": "stdout",
          "text": [
            "====== Input data summary ======\n",
            "Loading /content/gdrive/MyDrive/data/HDFS_100k.log_structured.csv\n",
            "219 94\n",
            "Total: 7940 instances, 313 anomaly, 7627 normal\n",
            "Train: 5557 instances, 219 anomaly, 5338 normal\n",
            "Test: 2383 instances, 94 anomaly, 2289 normal\n",
            "\n"
          ]
        }
      ]
    },
    {
      "cell_type": "code",
      "metadata": {
        "colab": {
          "base_uri": "https://localhost:8080/"
        },
        "id": "NkxZab30jVXn",
        "outputId": "0cc102a1-d97f-4cfe-c9fc-3a75f86e4c19"
      },
      "source": [
        "x_train[0]"
      ],
      "execution_count": null,
      "outputs": [
        {
          "output_type": "execute_result",
          "data": {
            "text/plain": [
              "['E22',\n",
              " 'E5',\n",
              " 'E5',\n",
              " 'E5',\n",
              " 'E26',\n",
              " 'E26',\n",
              " 'E26',\n",
              " 'E11',\n",
              " 'E9',\n",
              " 'E11',\n",
              " 'E9',\n",
              " 'E11',\n",
              " 'E9']"
            ]
          },
          "metadata": {},
          "execution_count": 17
        }
      ]
    },
    {
      "cell_type": "code",
      "metadata": {
        "colab": {
          "base_uri": "https://localhost:8080/"
        },
        "id": "isIVnu6neRx6",
        "outputId": "425fe424-b61f-4100-f4d1-097b042c7878"
      },
      "source": [
        "# Preprocess and vectorise dataset for model training and testing\n",
        "feature_extractor = preprocessing.FeatureExtractor()\n",
        "x_train_transformed = feature_extractor.fit_transform(x_train, term_weighting='tf-idf')\n",
        "x_test_transformed = feature_extractor.transform(x_test)"
      ],
      "execution_count": null,
      "outputs": [
        {
          "output_type": "stream",
          "name": "stdout",
          "text": [
            "====== Transformed train data summary ======\n",
            "Train data shape: 5557-by-16\n",
            "\n",
            "====== Transformed test data summary ======\n",
            "Test data shape: 2383-by-16\n",
            "\n"
          ]
        }
      ]
    },
    {
      "cell_type": "code",
      "metadata": {
        "colab": {
          "base_uri": "https://localhost:8080/"
        },
        "id": "AVfc67LxuYLb",
        "outputId": "e3c4f5ad-4678-4fbe-97a9-a3ae75672abf"
      },
      "source": [
        "x_train_transformed[0]"
      ],
      "execution_count": null,
      "outputs": [
        {
          "output_type": "execute_result",
          "data": {
            "text/plain": [
              "array([-1.79956050e-12, -5.39868150e-12,  4.78878298e-02,  4.73393336e-02,\n",
              "        4.78878298e-02,  0.00000000e+00,  0.00000000e+00,  0.00000000e+00,\n",
              "        0.00000000e+00,  0.00000000e+00,  0.00000000e+00,  0.00000000e+00,\n",
              "        0.00000000e+00,  0.00000000e+00,  0.00000000e+00,  0.00000000e+00])"
            ]
          },
          "metadata": {},
          "execution_count": 21
        }
      ]
    }
  ]
}