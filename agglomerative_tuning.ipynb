{
 "cells": [
  {
   "cell_type": "markdown",
   "id": "cdba2c54",
   "metadata": {},
   "source": [
    "# Agglomerative tuning"
   ]
  },
  {
   "cell_type": "markdown",
   "id": "15015797",
   "metadata": {},
   "source": [
    "## Data Loading and Preprocessing\n",
    "This notebook was run using AWS Sagemaker"
   ]
  },
  {
   "cell_type": "code",
   "execution_count": 1,
   "id": "280ce420",
   "metadata": {},
   "outputs": [
    {
     "name": "stdout",
     "output_type": "stream",
     "text": [
      "Collecting loglizer\n",
      "  Downloading loglizer-1.0-py3-none-any.whl (21 kB)\n",
      "Installing collected packages: loglizer\n",
      "Successfully installed loglizer-1.0\n",
      "\u001b[33mWARNING: You are using pip version 21.2.4; however, version 21.3.1 is available.\n",
      "You should consider upgrading via the '/home/ec2-user/anaconda3/envs/amazonei_pytorch_latest_p36/bin/python -m pip install --upgrade pip' command.\u001b[0m\n"
     ]
    }
   ],
   "source": [
    "!pip install loglizer"
   ]
  },
  {
   "cell_type": "code",
   "execution_count": 2,
   "id": "5775a1a8",
   "metadata": {},
   "outputs": [],
   "source": [
    "import pandas as pd\n",
    "\n",
    "import sys\n",
    "sys.path.append('../')\n",
    "from loglizer.models import LogClustering\n",
    "from loglizer import dataloader, preprocessing"
   ]
  },
  {
   "cell_type": "code",
   "execution_count": 3,
   "id": "ea7ce796",
   "metadata": {},
   "outputs": [],
   "source": [
    "label_path = 'anomaly_label.csv'\n",
    "feature_path = 'HDFS_100k.log_structured.csv'"
   ]
  },
  {
   "cell_type": "code",
   "execution_count": 4,
   "id": "c6a389fd",
   "metadata": {},
   "outputs": [],
   "source": [
    "struct_log = feature_path # The structured log file\n",
    "label_file = label_path # The anomaly label file\n",
    "max_dist = 0.3 # the threshold to stop the clustering process\n",
    "anomaly_threshold = 0.3 # the threshold for anomaly detection"
   ]
  },
  {
   "cell_type": "code",
   "execution_count": 5,
   "id": "78529261",
   "metadata": {},
   "outputs": [
    {
     "name": "stdout",
     "output_type": "stream",
     "text": [
      "====== Input data summary ======\n",
      "Loading HDFS_100k.log_structured.csv\n",
      "219 94\n",
      "Total: 7940 instances, 313 anomaly, 7627 normal\n",
      "Train: 5557 instances, 219 anomaly, 5338 normal\n",
      "Test: 2383 instances, 94 anomaly, 2289 normal\n",
      "\n"
     ]
    }
   ],
   "source": [
    "(x_train, y_train), (x_test, y_test) = dataloader.load_HDFS(feature_path,\n",
    "                                                            label_file=label_path,\n",
    "                                                            window='session', \n",
    "                                                            train_ratio=0.7,\n",
    "                                                            split_type='uniform')"
   ]
  },
  {
   "cell_type": "code",
   "execution_count": 6,
   "id": "c43c34ea",
   "metadata": {},
   "outputs": [
    {
     "data": {
      "text/plain": [
       "((5557,), (5557,))"
      ]
     },
     "execution_count": 6,
     "metadata": {},
     "output_type": "execute_result"
    }
   ],
   "source": [
    "x_train.shape, y_train.shape"
   ]
  },
  {
   "cell_type": "code",
   "execution_count": 7,
   "id": "ff34a8a6",
   "metadata": {},
   "outputs": [
    {
     "data": {
      "text/plain": [
       "['E22',\n",
       " 'E5',\n",
       " 'E5',\n",
       " 'E5',\n",
       " 'E26',\n",
       " 'E26',\n",
       " 'E26',\n",
       " 'E11',\n",
       " 'E9',\n",
       " 'E11',\n",
       " 'E9',\n",
       " 'E11',\n",
       " 'E9']"
      ]
     },
     "execution_count": 7,
     "metadata": {},
     "output_type": "execute_result"
    }
   ],
   "source": [
    "x_train[0]"
   ]
  },
  {
   "cell_type": "code",
   "execution_count": 8,
   "id": "c8483643",
   "metadata": {},
   "outputs": [
    {
     "name": "stdout",
     "output_type": "stream",
     "text": [
      "====== Transformed train data summary ======\n",
      "Train data shape: 5557-by-16\n",
      "\n",
      "====== Transformed test data summary ======\n",
      "Test data shape: 2383-by-16\n",
      "\n"
     ]
    }
   ],
   "source": [
    "feature_extractor = preprocessing.FeatureExtractor()\n",
    "x_train_transformed = feature_extractor.fit_transform(x_train, term_weighting='tf-idf')\n",
    "x_test_transformed = feature_extractor.transform(x_test)"
   ]
  },
  {
   "cell_type": "code",
   "execution_count": 9,
   "id": "f27d727b",
   "metadata": {},
   "outputs": [
    {
     "data": {
      "text/plain": [
       "array([-1.79956050e-12, -5.39868150e-12,  4.78878298e-02,  4.73393336e-02,\n",
       "        4.78878298e-02,  0.00000000e+00,  0.00000000e+00,  0.00000000e+00,\n",
       "        0.00000000e+00,  0.00000000e+00,  0.00000000e+00,  0.00000000e+00,\n",
       "        0.00000000e+00,  0.00000000e+00,  0.00000000e+00,  0.00000000e+00])"
      ]
     },
     "execution_count": 9,
     "metadata": {},
     "output_type": "execute_result"
    }
   ],
   "source": [
    "x_train_transformed[0]"
   ]
  },
  {
   "cell_type": "code",
   "execution_count": 10,
   "id": "d40833b7",
   "metadata": {},
   "outputs": [
    {
     "data": {
      "text/plain": [
       "(2383, 16)"
      ]
     },
     "execution_count": 10,
     "metadata": {},
     "output_type": "execute_result"
    }
   ],
   "source": [
    "x_test_transformed.shape"
   ]
  },
  {
   "cell_type": "markdown",
   "id": "13e25076",
   "metadata": {},
   "source": [
    "## Find optimal parameters"
   ]
  },
  {
   "cell_type": "code",
   "execution_count": 16,
   "id": "722f034f",
   "metadata": {},
   "outputs": [],
   "source": [
    "max_dist_list = [0.2, 0.3, 0.4] # the threshold to stop the clustering process\n",
    "anomaly_threshold_list = [0.2, 0.3, 0.4] # the threshold for anomaly detection\n",
    "results_list = []"
   ]
  },
  {
   "cell_type": "code",
   "execution_count": 17,
   "id": "87bd41ae",
   "metadata": {
    "collapsed": true,
    "jupyter": {
     "outputs_hidden": true
    }
   },
   "outputs": [
    {
     "name": "stdout",
     "output_type": "stream",
     "text": [
      "====== Model summary ======\n",
      "Starting offline clustering...\n",
      "Processed 1000 instances.\n",
      "Found 2 clusters offline.\n",
      "\n",
      "Starting online clustering...\n",
      "Processed 2000 instances.\n",
      "Processed 4000 instances.\n",
      "Processed 5338 instances.\n",
      "Found 3 clusters online.\n",
      "\n",
      "====== Evaluation summary ======\n",
      "Precision: 0.950, recall: 0.606, F1-measure: 0.740\n",
      "\n",
      "====== Model summary ======\n",
      "Starting offline clustering...\n",
      "Processed 1000 instances.\n",
      "Found 2 clusters offline.\n",
      "\n",
      "Starting online clustering...\n",
      "Processed 2000 instances.\n",
      "Processed 4000 instances.\n",
      "Processed 5338 instances.\n",
      "Found 3 clusters online.\n",
      "\n",
      "====== Evaluation summary ======\n",
      "Precision: 0.950, recall: 0.606, F1-measure: 0.740\n",
      "\n",
      "====== Model summary ======\n",
      "Starting offline clustering...\n",
      "Processed 1000 instances.\n",
      "Found 2 clusters offline.\n",
      "\n",
      "Starting online clustering...\n",
      "Processed 2000 instances.\n",
      "Processed 4000 instances.\n",
      "Processed 5338 instances.\n",
      "Found 3 clusters online.\n",
      "\n",
      "====== Evaluation summary ======\n",
      "Precision: 0.950, recall: 0.606, F1-measure: 0.740\n",
      "\n",
      "====== Model summary ======\n",
      "Starting offline clustering...\n",
      "Processed 1000 instances.\n",
      "Found 2 clusters offline.\n",
      "\n",
      "Starting online clustering...\n",
      "Processed 2000 instances.\n",
      "Processed 4000 instances.\n",
      "Processed 5338 instances.\n",
      "Found 3 clusters online.\n",
      "\n",
      "====== Evaluation summary ======\n",
      "Precision: 0.950, recall: 0.606, F1-measure: 0.740\n",
      "\n",
      "====== Model summary ======\n",
      "Starting offline clustering...\n",
      "Processed 1000 instances.\n",
      "Found 2 clusters offline.\n",
      "\n",
      "Starting online clustering...\n",
      "Processed 2000 instances.\n",
      "Processed 4000 instances.\n",
      "Processed 5338 instances.\n",
      "Found 3 clusters online.\n",
      "\n",
      "====== Evaluation summary ======\n",
      "Precision: 0.950, recall: 0.606, F1-measure: 0.740\n",
      "\n",
      "====== Model summary ======\n",
      "Starting offline clustering...\n",
      "Processed 1000 instances.\n",
      "Found 2 clusters offline.\n",
      "\n",
      "Starting online clustering...\n",
      "Processed 2000 instances.\n",
      "Processed 4000 instances.\n",
      "Processed 5338 instances.\n",
      "Found 3 clusters online.\n",
      "\n",
      "====== Evaluation summary ======\n",
      "Precision: 0.950, recall: 0.606, F1-measure: 0.740\n",
      "\n",
      "====== Model summary ======\n",
      "Starting offline clustering...\n",
      "Processed 1000 instances.\n",
      "Found 2 clusters offline.\n",
      "\n",
      "Starting online clustering...\n",
      "Processed 2000 instances.\n",
      "Processed 4000 instances.\n",
      "Processed 5338 instances.\n",
      "Found 3 clusters online.\n",
      "\n",
      "====== Evaluation summary ======\n",
      "Precision: 0.950, recall: 0.606, F1-measure: 0.740\n",
      "\n",
      "====== Model summary ======\n",
      "Starting offline clustering...\n",
      "Processed 1000 instances.\n",
      "Found 2 clusters offline.\n",
      "\n",
      "Starting online clustering...\n",
      "Processed 2000 instances.\n",
      "Processed 4000 instances.\n",
      "Processed 5338 instances.\n",
      "Found 3 clusters online.\n",
      "\n",
      "====== Evaluation summary ======\n",
      "Precision: 0.950, recall: 0.606, F1-measure: 0.740\n",
      "\n",
      "====== Model summary ======\n",
      "Starting offline clustering...\n",
      "Processed 1000 instances.\n",
      "Found 2 clusters offline.\n",
      "\n",
      "Starting online clustering...\n",
      "Processed 2000 instances.\n",
      "Processed 4000 instances.\n",
      "Processed 5338 instances.\n",
      "Found 3 clusters online.\n",
      "\n",
      "====== Evaluation summary ======\n",
      "Precision: 0.950, recall: 0.606, F1-measure: 0.740\n",
      "\n"
     ]
    }
   ],
   "source": [
    "for max_dist in max_dist_list:\n",
    "    for anomaly_threshold in anomaly_threshold_list:\n",
    "        model = LogClustering(max_dist=max_dist, anomaly_threshold=anomaly_threshold)\n",
    "        model.fit(x_train_transformed[y_train == 0, :]) # Use only normal samples for training\n",
    "        precision, recall, f1 = model.evaluate(x_test_transformed, y_test)\n",
    "        \n",
    "        temp_dict = {}\n",
    "        temp_dict['max_dist'] = max_dist\n",
    "        temp_dict['anomaly_threshold'] = anomaly_threshold\n",
    "        temp_dict['precision'] = precision\n",
    "        temp_dict['recall'] = recall\n",
    "        temp_dict['f1'] = f1\n",
    "        results_list.append(temp_dict)"
   ]
  },
  {
   "cell_type": "code",
   "execution_count": 18,
   "id": "164eae71",
   "metadata": {},
   "outputs": [
    {
     "data": {
      "text/plain": [
       "[{'max_dist': 0.2,\n",
       "  'anomaly_threshold': 0.2,\n",
       "  'precision': 0.95,\n",
       "  'recall': 0.6063829787234043,\n",
       "  'f1': 0.7402597402597403},\n",
       " {'max_dist': 0.2,\n",
       "  'anomaly_threshold': 0.3,\n",
       "  'precision': 0.95,\n",
       "  'recall': 0.6063829787234043,\n",
       "  'f1': 0.7402597402597403},\n",
       " {'max_dist': 0.2,\n",
       "  'anomaly_threshold': 0.4,\n",
       "  'precision': 0.95,\n",
       "  'recall': 0.6063829787234043,\n",
       "  'f1': 0.7402597402597403},\n",
       " {'max_dist': 0.3,\n",
       "  'anomaly_threshold': 0.2,\n",
       "  'precision': 0.95,\n",
       "  'recall': 0.6063829787234043,\n",
       "  'f1': 0.7402597402597403},\n",
       " {'max_dist': 0.3,\n",
       "  'anomaly_threshold': 0.3,\n",
       "  'precision': 0.95,\n",
       "  'recall': 0.6063829787234043,\n",
       "  'f1': 0.7402597402597403},\n",
       " {'max_dist': 0.3,\n",
       "  'anomaly_threshold': 0.4,\n",
       "  'precision': 0.95,\n",
       "  'recall': 0.6063829787234043,\n",
       "  'f1': 0.7402597402597403},\n",
       " {'max_dist': 0.4,\n",
       "  'anomaly_threshold': 0.2,\n",
       "  'precision': 0.95,\n",
       "  'recall': 0.6063829787234043,\n",
       "  'f1': 0.7402597402597403},\n",
       " {'max_dist': 0.4,\n",
       "  'anomaly_threshold': 0.3,\n",
       "  'precision': 0.95,\n",
       "  'recall': 0.6063829787234043,\n",
       "  'f1': 0.7402597402597403},\n",
       " {'max_dist': 0.4,\n",
       "  'anomaly_threshold': 0.4,\n",
       "  'precision': 0.95,\n",
       "  'recall': 0.6063829787234043,\n",
       "  'f1': 0.7402597402597403}]"
      ]
     },
     "execution_count": 18,
     "metadata": {},
     "output_type": "execute_result"
    }
   ],
   "source": [
    "results_list"
   ]
  }
 ],
 "metadata": {
  "kernelspec": {
   "display_name": "conda_amazonei_pytorch_latest_p36",
   "language": "python",
   "name": "conda_amazonei_pytorch_latest_p36"
  },
  "language_info": {
   "codemirror_mode": {
    "name": "ipython",
    "version": 3
   },
   "file_extension": ".py",
   "mimetype": "text/x-python",
   "name": "python",
   "nbconvert_exporter": "python",
   "pygments_lexer": "ipython3",
   "version": "3.6.13"
  }
 },
 "nbformat": 4,
 "nbformat_minor": 5
}
