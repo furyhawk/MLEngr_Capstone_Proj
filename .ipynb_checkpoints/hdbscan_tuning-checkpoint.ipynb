{
 "cells": [
  {
   "cell_type": "markdown",
   "metadata": {},
   "source": [
    "# HDBSCAN tuning"
   ]
  },
  {
   "cell_type": "markdown",
   "metadata": {},
   "source": [
    "## Data Loading and Preprocessing\n",
    "This notebook was run using VS Code"
   ]
  },
  {
   "cell_type": "code",
   "execution_count": 1,
   "metadata": {},
   "outputs": [],
   "source": [
    "import pandas as pd\n",
    "# import re\n",
    "# import sys\n",
    "# sys.path.append('../')\n",
    "# from loglizer.models import LogClustering\n",
    "# from loglizer import dataloader, preprocessing\n",
    "# import itertools\n",
    "\n",
    "import hdbscan\n",
    "from sklearn import model_selection\n",
    "from sklearn.metrics import make_scorer\n",
    "import logging # to further silence deprecation warnings"
   ]
  },
  {
   "cell_type": "markdown",
   "metadata": {},
   "source": [
    "## Prepare data"
   ]
  },
  {
   "cell_type": "code",
   "execution_count": 2,
   "metadata": {},
   "outputs": [
    {
     "name": "stdout",
     "output_type": "stream",
     "text": [
      "(3968, 14)\n"
     ]
    },
    {
     "data": {
      "text/html": [
       "<div>\n",
       "<style scoped>\n",
       "    .dataframe tbody tr th:only-of-type {\n",
       "        vertical-align: middle;\n",
       "    }\n",
       "\n",
       "    .dataframe tbody tr th {\n",
       "        vertical-align: top;\n",
       "    }\n",
       "\n",
       "    .dataframe thead th {\n",
       "        text-align: right;\n",
       "    }\n",
       "</style>\n",
       "<table border=\"1\" class=\"dataframe\">\n",
       "  <thead>\n",
       "    <tr style=\"text-align: right;\">\n",
       "      <th></th>\n",
       "      <th>-7.558620396262513e-12</th>\n",
       "      <th>-2.5195401320875045e-12</th>\n",
       "      <th>0.04186291447346667</th>\n",
       "      <th>0.04262949171029229</th>\n",
       "      <th>0.04262949171029229.1</th>\n",
       "      <th>0.0</th>\n",
       "      <th>0.0.1</th>\n",
       "      <th>0.0.2</th>\n",
       "      <th>0.0.3</th>\n",
       "      <th>0.0.4</th>\n",
       "      <th>0.0.5</th>\n",
       "      <th>0.0.6</th>\n",
       "      <th>0.0.7</th>\n",
       "      <th>0.0.8</th>\n",
       "    </tr>\n",
       "  </thead>\n",
       "  <tbody>\n",
       "    <tr>\n",
       "      <th>0</th>\n",
       "      <td>-7.558620e-12</td>\n",
       "      <td>-2.519540e-12</td>\n",
       "      <td>0.041863</td>\n",
       "      <td>0.042629</td>\n",
       "      <td>0.042629</td>\n",
       "      <td>0.000000</td>\n",
       "      <td>0.0</td>\n",
       "      <td>0.0</td>\n",
       "      <td>0.0</td>\n",
       "      <td>0.0</td>\n",
       "      <td>0.0</td>\n",
       "      <td>0.0</td>\n",
       "      <td>0.0</td>\n",
       "      <td>0.0</td>\n",
       "    </tr>\n",
       "    <tr>\n",
       "      <th>1</th>\n",
       "      <td>-7.558620e-12</td>\n",
       "      <td>-2.519540e-12</td>\n",
       "      <td>0.041863</td>\n",
       "      <td>0.042629</td>\n",
       "      <td>0.042629</td>\n",
       "      <td>3.425587</td>\n",
       "      <td>0.0</td>\n",
       "      <td>0.0</td>\n",
       "      <td>0.0</td>\n",
       "      <td>0.0</td>\n",
       "      <td>0.0</td>\n",
       "      <td>0.0</td>\n",
       "      <td>0.0</td>\n",
       "      <td>0.0</td>\n",
       "    </tr>\n",
       "    <tr>\n",
       "      <th>2</th>\n",
       "      <td>-7.558620e-12</td>\n",
       "      <td>-2.519540e-12</td>\n",
       "      <td>0.041863</td>\n",
       "      <td>0.042629</td>\n",
       "      <td>0.042629</td>\n",
       "      <td>0.000000</td>\n",
       "      <td>0.0</td>\n",
       "      <td>0.0</td>\n",
       "      <td>0.0</td>\n",
       "      <td>0.0</td>\n",
       "      <td>0.0</td>\n",
       "      <td>0.0</td>\n",
       "      <td>0.0</td>\n",
       "      <td>0.0</td>\n",
       "    </tr>\n",
       "  </tbody>\n",
       "</table>\n",
       "</div>"
      ],
      "text/plain": [
       "   -7.558620396262513e-12  -2.5195401320875045e-12  0.04186291447346667  \\\n",
       "0           -7.558620e-12            -2.519540e-12             0.041863   \n",
       "1           -7.558620e-12            -2.519540e-12             0.041863   \n",
       "2           -7.558620e-12            -2.519540e-12             0.041863   \n",
       "\n",
       "   0.04262949171029229  0.04262949171029229.1       0.0  0.0.1  0.0.2  0.0.3  \\\n",
       "0             0.042629               0.042629  0.000000    0.0    0.0    0.0   \n",
       "1             0.042629               0.042629  3.425587    0.0    0.0    0.0   \n",
       "2             0.042629               0.042629  0.000000    0.0    0.0    0.0   \n",
       "\n",
       "   0.0.4  0.0.5  0.0.6  0.0.7  0.0.8  \n",
       "0    0.0    0.0    0.0    0.0    0.0  \n",
       "1    0.0    0.0    0.0    0.0    0.0  \n",
       "2    0.0    0.0    0.0    0.0    0.0  "
      ]
     },
     "execution_count": 2,
     "metadata": {},
     "output_type": "execute_result"
    }
   ],
   "source": [
    "feature_df = pd.read_csv(\"data/x_train_transformed_df.csv\")\n",
    "print( feature_df.shape )\n",
    "feature_df.head(3)"
   ]
  },
  {
   "cell_type": "markdown",
   "metadata": {},
   "source": [
    "#---------------------------------------------------------------------------------------------------------------------------------------"
   ]
  },
  {
   "cell_type": "markdown",
   "metadata": {},
   "source": [
    "## Find optimal parameters"
   ]
  },
  {
   "cell_type": "code",
   "execution_count": 3,
   "metadata": {},
   "outputs": [],
   "source": [
    "logging.captureWarnings(True)\n",
    "hdb = hdbscan.HDBSCAN(gen_min_span_tree=True)"
   ]
  },
  {
   "cell_type": "code",
   "execution_count": 4,
   "metadata": {},
   "outputs": [],
   "source": [
    "param_dist = {'min_samples': [10,20,30,50],\n",
    "              'min_cluster_size':[40, 50,100],  \n",
    "              'cluster_selection_method' : ['eom','leaf'],\n",
    "              'metric' : ['euclidean','manhattan'] \n",
    "             }"
   ]
  },
  {
   "cell_type": "code",
   "execution_count": 5,
   "metadata": {},
   "outputs": [],
   "source": [
    "validity_scorer = make_scorer(hdbscan.validity.validity_index,greater_is_better=True)"
   ]
  },
  {
   "cell_type": "code",
   "execution_count": 6,
   "metadata": {},
   "outputs": [],
   "source": [
    "grid_search = model_selection.GridSearchCV(hdb, \n",
    "                                           param_dist,\n",
    "                                           scoring=validity_scorer, \n",
    "                                           refit=True,\n",
    "                                           cv=10, \n",
    "                                           return_train_score=True)"
   ]
  },
  {
   "cell_type": "code",
   "execution_count": 7,
   "metadata": {},
   "outputs": [
    {
     "data": {
      "text/plain": [
       "GridSearchCV(cv=10, estimator=HDBSCAN(gen_min_span_tree=True),\n",
       "             param_grid={'cluster_selection_method': ['eom', 'leaf'],\n",
       "                         'metric': ['euclidean', 'manhattan'],\n",
       "                         'min_cluster_size': [40, 50, 100],\n",
       "                         'min_samples': [10, 20, 30, 50]},\n",
       "             return_train_score=True, scoring=make_scorer(validity_index))"
      ]
     },
     "execution_count": 7,
     "metadata": {},
     "output_type": "execute_result"
    }
   ],
   "source": [
    "grid_search.fit(feature_df)"
   ]
  },
  {
   "cell_type": "code",
   "execution_count": 8,
   "metadata": {},
   "outputs": [
    {
     "name": "stdout",
     "output_type": "stream",
     "text": [
      "Best Parameters {'cluster_selection_method': 'eom', 'metric': 'euclidean', 'min_cluster_size': 40, 'min_samples': 10}\n",
      "DBCV score :0.9489197777196966\n"
     ]
    }
   ],
   "source": [
    "print(f\"Best Parameters {grid_search.best_params_}\")\n",
    "print(f\"DBCV score :{grid_search.best_estimator_.relative_validity_}\")    # DBCV: https://github.com/christopherjenness/DBCV"
   ]
  }
 ],
 "metadata": {
  "instance_type": "ml.t3.medium",
  "interpreter": {
   "hash": "9149b96ea92d7a2bc80717d2331fa845abb7ffa6e602287474953c241f87badb"
  },
  "kernelspec": {
   "display_name": "Python 3.9.6 64-bit ('sam-xijn0R31': pipenv)",
   "name": "python3"
  },
  "language_info": {
   "codemirror_mode": {
    "name": "ipython",
    "version": 3
   },
   "file_extension": ".py",
   "mimetype": "text/x-python",
   "name": "python",
   "nbconvert_exporter": "python",
   "pygments_lexer": "ipython3",
   "version": "3.9.6"
  }
 },
 "nbformat": 4,
 "nbformat_minor": 4
}
